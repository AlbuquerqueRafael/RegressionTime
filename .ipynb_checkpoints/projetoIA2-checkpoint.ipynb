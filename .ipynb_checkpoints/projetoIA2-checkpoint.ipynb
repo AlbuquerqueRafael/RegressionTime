{
 "cells": [
  {
   "cell_type": "code",
   "execution_count": 1,
   "metadata": {},
   "outputs": [
    {
     "name": "stderr",
     "output_type": "stream",
     "text": [
      "C:\\Users\\rbrun\\Anaconda3\\lib\\site-packages\\sklearn\\cross_validation.py:41: DeprecationWarning: This module was deprecated in version 0.18 in favor of the model_selection module into which all the refactored classes and functions are moved. Also note that the interface of the new CV iterators are different from that of this module. This module will be removed in 0.20.\n",
      "  \"This module will be removed in 0.20.\", DeprecationWarning)\n",
      "C:\\Users\\rbrun\\Anaconda3\\lib\\site-packages\\sklearn\\ensemble\\weight_boosting.py:29: DeprecationWarning: numpy.core.umath_tests is an internal NumPy module and should not be imported. It will be removed in a future NumPy release.\n",
      "  from numpy.core.umath_tests import inner1d\n"
     ]
    }
   ],
   "source": [
    "import numpy as np\n",
    "import pandas as pd\n",
    "import itertools\n",
    "import scipy as sp\n",
    "from sklearn.linear_model import LassoCV\n",
    "from sklearn.feature_selection import SelectFromModel\n",
    "from scipy.spatial.distance import mahalanobis\n",
    "from decimal import Decimal\n",
    "from sklearn import preprocessing, cross_validation\n",
    "from sklearn.linear_model import LinearRegression\n",
    "from scipy import stats\n",
    "from sklearn.metrics import mean_squared_error\n",
    "from sklearn.preprocessing import StandardScaler  \n",
    "from sklearn import preprocessing\n",
    "from sklearn import neighbors\n",
    "from sklearn.ensemble import RandomForestRegressor\n",
    "from sklearn import linear_model\n",
    "import matplotlib.pyplot as plt\n",
    "from sklearn.linear_model import Ridge\n",
    "import math\n",
    "import pickle"
   ]
  },
  {
   "cell_type": "markdown",
   "metadata": {},
   "source": [
    "## Introdução:\n",
    "<br>\n",
    "<div style=\"text-align:justify\">\n",
    "       O trabalho em questão a seguir é um mini-projeto para a disciplina de Inteligência Artificial do curso de Ciência da Computação da Universidade Federal de Campina Grande. Este trabalho tem como objetivo investigar modelos de regressão em dados reais. Para isto será utilizado as técnicas KNN, Random Forest e SGD que serão explicadas em seções posteriores. Para a realização do projeto será utilizada a biblioteca <a href=\"https://scikit-learn.org/stable/\"> scikit-learn </a>. Além disto, será utilizado como base de dados o arquivo:<a href=\"https://drive.google.com/file/d/1mazO0QvCDqf7o7U9xCC_8EoxnA4qLTEy/view\"> dados</a>. Algo a se considerar é que apesar do carater cientificista do projeto, alguns erros de metodologia podem acontecer devido ao nivel de conhecimento do autor sobre o tema e principalmente devido ao tempo empregado para o mesmo. \n",
    "</div>"
   ]
  },
  {
   "cell_type": "markdown",
   "metadata": {},
   "source": [
    "## Descrições Téoricas:\n",
    "   Nesta seção será feita uma pequena introdução aos algoritmos e a métrica escolhida neste projeto.\n",
    "   \n",
    "\n",
    "   <div> \n",
    "    <br>\n",
    "    - Random Forest:\n",
    "<br>\n",
    "   <p style=\"text-align: justify;\">  \n",
    "&nbsp;&nbsp;&nbsp;&nbsp;&nbsp;&nbsp;Random Forest é uma das técnicas mais famosas de aprendizado de máquina. A ideia do algoritmo é criar várias árvores de decisão que se combinam para então se um modelo com uma maior acurácia e que possui uma predição mais estável. Está tecnica pode ser utilizado tanto para classificação quanto para regressão. Uma desvantagem do algoritmo é que apesar de ser rápido para treinar, eles podem ser lentos para predições. Algumas vantagens deste algoritmo incluem: \n",
    "       <br>\n",
    "       <br>\n",
    "&nbsp;&nbsp;&nbsp;&nbsp;&nbsp;&nbsp;- É um algoritmo que consegue lidar com valores faltantes, mantendo boa acurácia\n",
    "       <br>\n",
    "&nbsp;&nbsp;&nbsp;&nbsp;&nbsp;&nbsp;- O modelo tem uma probabilidade menor de sofrer overfitting quando comparado com o modelo de árvores de decisão\n",
    "     </p>\n",
    "    <br>\n",
    "    - SGD:\n",
    "    <p style=\"text-align: justify;\">  \n",
    "&nbsp;&nbsp;&nbsp;&nbsp;&nbsp;&nbsp;SGD ou Stochastic gradient descent é um método iterativo para otimizar uma função de perda. As vantagens do SGD são a eficiência e a facilidade de implementação. No nosso caso, como utilizaremos o scikit learn, não precisaremos implementar a função. Além disto, o próprio scikit learn indica(https://scikit-learn.org/stable/tutorial/machine_learning_map/index.html) o SGD como uma boa forma de regressão. Contudo, algumas desvantagem do algoritmo incluem:\n",
    "          <br>\n",
    "       <br>\n",
    "&nbsp;&nbsp;&nbsp;&nbsp;&nbsp;&nbsp;- SGD requer um número de hiper-parâmetros tais como o parâmetros de regularização e o número de iterações\n",
    "         <br>\n",
    "&nbsp;&nbsp;&nbsp;&nbsp;&nbsp;&nbsp;- SGD é sensível ao dimensionamento de variáveis\n",
    "           \n",
    "   Caso o leitor queira saber mais sobre o SGD, ao final deste documento foi colocado alguns vídeos que podem o ajudar. Contudo, é necessário que o leitor tenha conhecimento em cálculo avançado para tal. \n",
    "   </p><br>\n",
    "   <p>- KNN:\n",
    "    <br>\n",
    "    <br>\n",
    "&nbsp;&nbsp;&nbsp;&nbsp;&nbsp;&nbsp;KNN ou k-Nearest Neighbors é um algoritmo bastante popular utilizado em aprendizado de máquina. A ideia do algoritmo é separar o nosso conjunto de dados em K classes e a partir disso verificar a que classe pertence nossas predições. Algumas desvantagens é que o algoritmo pode ser lento quando a quantidade de dados é grande. Algumas vantagens são:\n",
    "    <br>\n",
    "    <div> \n",
    "&nbsp;&nbsp;&nbsp;&nbsp;&nbsp;&nbsp;- Conceitos complexos podem ser aprendidos por simples procedimentos que se utilizam de \n",
    " <a href=\"https://www.dicasdecalculo.com.br/conteudos/derivadas/aplicacoes-de-derivadas/aproximacao-linear-local/\"> \n",
    "      aproximação local </a>\n",
    "          </div>\n",
    "    <div>\n",
    "&nbsp;&nbsp;&nbsp;&nbsp;&nbsp;&nbsp;- Não é necessário fazer suposições sobre as caracteristicas dos conceitos que necessitam ser aprendidos\n",
    "    </div>\n",
    "   </p>\n",
    "   <p>- RMSE:\n",
    "      <p style=\"text-align: justify;\"> \n",
    "&nbsp;&nbsp;&nbsp;&nbsp;&nbsp;&nbsp;É uma medida que mede a diferença entre dos valores previstos pelo modelo ou pelo estimador e dos valores esperados. \n",
    "    Mais informações podem ser vistas em: <a href=\"https://www.statisticshowto.datasciencecentral.com/rmse/\"> rmse </a> \n",
    "      </p>\n",
    "   </p>\n",
    "</div>\n"
   ]
  },
  {
   "cell_type": "markdown",
   "metadata": {},
   "source": [
    "## Sobre os dados:\n",
    "<br>\n",
    "   <div style=\"text-align:justify\"> Os dados supracitados se tratam de informações sobre preços de venda de carros. As colunas dos dados são: 'Price', 'Year', 'Mileage', 'City', 'Estado', 'Vin', 'Make' e 'Model'. O significado dessas colunas pode ser visto na tabela a seguir:\n",
    "   </div> "
   ]
  },
  {
   "cell_type": "markdown",
   "metadata": {},
   "source": [
    "\n",
    " <table style=\"border: 1px solid black;\">\n",
    "  <tr style=\"border: 1px solid black;\">\n",
    "    <td style=\"border: 1px solid black;\">Preço</td>\n",
    "    <td>O Preço do carro</td>\n",
    "  </tr>\n",
    "  <tr style=\"border: 1px solid black;\">\n",
    "    <td style=\"border: 1px solid black;\">Year</td>\n",
    "    <td>O ano de fabricação do carro</td>\n",
    "  </tr>\n",
    "  <tr style=\"border: 1px solid black;\">\n",
    "    <td style=\"border: 1px solid black;\">Mileage</td>\n",
    "    <td>Quantas milhas o carro possui</td>\n",
    "  </tr>\n",
    "  <tr style=\"border: 1px solid black;\">\n",
    "    <td style=\"border: 1px solid black;\">City</td>\n",
    "    <td>A cidade que este carro foi vendido</td>\n",
    "  </tr>\n",
    "   <tr style=\"border: 1px solid black;\">\n",
    "     <td style=\"border: 1px solid black;\">State</td>\n",
    "    <td>O estado(unidade federativa) que este carro foi vendido</td>\n",
    "  </tr>\n",
    "  <tr style=\"border: 1px solid black;\">\n",
    "    <td style=\"border: 1px solid black;\">Vin</td>\n",
    "    <td>Vin é uma sigla para Vehicle Identification Number(Número de Identificação do Veículo). No brasil conhecido como número do chassi</td>\n",
    "  </tr>\n",
    "   <tr style=\"border: 1px solid black;\">\n",
    "    <td style=\"border: 1px solid black;\">Make</td>\n",
    "    <td>Fabricante do carro</td>\n",
    "  </tr>\n",
    "       <tr>\n",
    "    <td style=\"border: 1px solid black;\">Model</td>\n",
    "    <td>Modelo do carro</td>\n",
    "  </tr>\n",
    "</table>"
   ]
  },
  {
   "cell_type": "markdown",
   "metadata": {},
   "source": [
    "Um pouco mais sobre os dados:"
   ]
  },
  {
   "cell_type": "code",
   "execution_count": 41,
   "metadata": {},
   "outputs": [
    {
     "data": {
      "text/html": [
       "<div>\n",
       "<style scoped>\n",
       "    .dataframe tbody tr th:only-of-type {\n",
       "        vertical-align: middle;\n",
       "    }\n",
       "\n",
       "    .dataframe tbody tr th {\n",
       "        vertical-align: top;\n",
       "    }\n",
       "\n",
       "    .dataframe thead th {\n",
       "        text-align: right;\n",
       "    }\n",
       "</style>\n",
       "<table border=\"1\" class=\"dataframe\">\n",
       "  <thead>\n",
       "    <tr style=\"text-align: right;\">\n",
       "      <th></th>\n",
       "      <th>Price</th>\n",
       "      <th>Year</th>\n",
       "      <th>Mileage</th>\n",
       "      <th>City</th>\n",
       "      <th>State</th>\n",
       "      <th>Vin</th>\n",
       "      <th>Make</th>\n",
       "      <th>Model</th>\n",
       "    </tr>\n",
       "  </thead>\n",
       "  <tbody>\n",
       "    <tr>\n",
       "      <th>0</th>\n",
       "      <td>8995</td>\n",
       "      <td>2014</td>\n",
       "      <td>35725</td>\n",
       "      <td>El Paso</td>\n",
       "      <td>TX</td>\n",
       "      <td>19VDE2E53EE000083</td>\n",
       "      <td>Acura</td>\n",
       "      <td>ILX6-Speed</td>\n",
       "    </tr>\n",
       "    <tr>\n",
       "      <th>1</th>\n",
       "      <td>10888</td>\n",
       "      <td>2013</td>\n",
       "      <td>19606</td>\n",
       "      <td>Long Island City</td>\n",
       "      <td>NY</td>\n",
       "      <td>19VDE1F52DE012636</td>\n",
       "      <td>Acura</td>\n",
       "      <td>ILX5-Speed</td>\n",
       "    </tr>\n",
       "    <tr>\n",
       "      <th>2</th>\n",
       "      <td>8995</td>\n",
       "      <td>2013</td>\n",
       "      <td>48851</td>\n",
       "      <td>El Paso</td>\n",
       "      <td>TX</td>\n",
       "      <td>19VDE2E52DE000025</td>\n",
       "      <td>Acura</td>\n",
       "      <td>ILX6-Speed</td>\n",
       "    </tr>\n",
       "    <tr>\n",
       "      <th>3</th>\n",
       "      <td>10999</td>\n",
       "      <td>2014</td>\n",
       "      <td>39922</td>\n",
       "      <td>Windsor</td>\n",
       "      <td>CO</td>\n",
       "      <td>19VDE1F71EE003817</td>\n",
       "      <td>Acura</td>\n",
       "      <td>ILX5-Speed</td>\n",
       "    </tr>\n",
       "    <tr>\n",
       "      <th>4</th>\n",
       "      <td>14799</td>\n",
       "      <td>2016</td>\n",
       "      <td>22142</td>\n",
       "      <td>Lindon</td>\n",
       "      <td>UT</td>\n",
       "      <td>19UDE2F32GA001284</td>\n",
       "      <td>Acura</td>\n",
       "      <td>ILXAutomatic</td>\n",
       "    </tr>\n",
       "  </tbody>\n",
       "</table>\n",
       "</div>"
      ],
      "text/plain": [
       "   Price  Year  Mileage              City State                Vin   Make  \\\n",
       "0   8995  2014    35725           El Paso    TX  19VDE2E53EE000083  Acura   \n",
       "1  10888  2013    19606  Long Island City    NY  19VDE1F52DE012636  Acura   \n",
       "2   8995  2013    48851           El Paso    TX  19VDE2E52DE000025  Acura   \n",
       "3  10999  2014    39922           Windsor    CO  19VDE1F71EE003817  Acura   \n",
       "4  14799  2016    22142            Lindon    UT  19UDE2F32GA001284  Acura   \n",
       "\n",
       "          Model  \n",
       "0    ILX6-Speed  \n",
       "1    ILX5-Speed  \n",
       "2    ILX6-Speed  \n",
       "3    ILX5-Speed  \n",
       "4  ILXAutomatic  "
      ]
     },
     "execution_count": 41,
     "metadata": {},
     "output_type": "execute_result"
    }
   ],
   "source": [
    "## Lendo os dados para o dataframe\n",
    "df = pd.read_csv('true_car_listings.csv')\n",
    "##Mostrando as 5 primeiras linhas do meu dataframe\n",
    "df.head()"
   ]
  },
  {
   "cell_type": "markdown",
   "metadata": {},
   "source": [
    "<div style=\"text-align:justify\"> Como podemos ver, as colunas \"City\", \"State\", \"Make\" e \"Model\" e \"Vin\" se tratam de variáveis categóricas. Enquanto as colunas \"Price\", \"Year\" e \"Mileage\" se tratam de dados inteiros. Devido a isto, posteriormente precisaremos fazer um pre-processamento nas variáveis categóricas. Além disto, outro dado sobre a base de dados é que ela possuia 852122 linhas, ou seja, 852122 informações das colunas supracitadas.\n",
    "</div>"
   ]
  },
  {
   "cell_type": "markdown",
   "metadata": {},
   "source": [
    "## Metodologia :\n",
    "<br>\n",
    "<div style=\"text-align:justify\">\n",
    "   A Metodologia que será utilizada neste estudo será:<br><br>\n",
    "   i. Será separado o conjunto de dados em dois subconjuntos aleatórios disjuntos: treinamento e validação, na proporção de 80% -20% do tamanho do conjunto original, respectivamente. <br>\n",
    "   ii. Será feito um treinamento utilizando cada uma das técnicas supracitadas utilizando o conjunto de treinamento e será avaliado o modelo computando o rmse. <br>\n",
    "   iii. Os passos i e ii serão repetidos 10 vezes. A partir disto será calculado o desvio-padrão e a média do rmse obtido.<br>\n",
    "   \n",
    "   <p style=\"text-align:justify\"> Após isto, será utilizado técnicas de pré-processamento nos dados, extração/redução de características e modificações nos modelos propostos com o intuito de se diminuir o rmse dos modelos. Por último, mas não menos importante, é que a coluna \"Vin\" será descartada do nosso modelo. O motivo é que a informação da coluna em questão é única para cada linha, tornando-se assim irrelevante para nosso modelo de regressão. Além disto, como o SGD possui problemas relacionados com dimensionamento de recursos será utilizado a função \n",
    "    <a href=\"https://scikit-learn.org/stable/modules/generated/sklearn.preprocessing.scale.html\"> preprocessing.scale</a> \n",
    "    neste modelo. </p>\n",
    "</div>"
   ]
  },
  {
   "cell_type": "markdown",
   "metadata": {},
   "source": [
    "## Predições Iniciais : \n",
    "   <br>\n",
    "   <div> Nesta seção será feito os passos descritos anteriormente na seção de metodologia. No final da seção serão informados o desvio-padrão e a média dos scores obtidos. </div>"
   ]
  },
  {
   "cell_type": "code",
   "execution_count": 166,
   "metadata": {},
   "outputs": [
    {
     "name": "stderr",
     "output_type": "stream",
     "text": [
      "C:\\Users\\rbrun\\Anaconda3\\lib\\site-packages\\sklearn\\utils\\validation.py:475: DataConversionWarning: Data with input dtype int64 was converted to float64 by the scale function.\n",
      "  warnings.warn(msg, DataConversionWarning)\n",
      "C:\\Users\\rbrun\\Anaconda3\\lib\\site-packages\\sklearn\\utils\\validation.py:475: DataConversionWarning: Data with input dtype int64 was converted to float64 by the scale function.\n",
      "  warnings.warn(msg, DataConversionWarning)\n",
      "C:\\Users\\rbrun\\Anaconda3\\lib\\site-packages\\sklearn\\utils\\validation.py:475: DataConversionWarning: Data with input dtype int64 was converted to float64 by the scale function.\n",
      "  warnings.warn(msg, DataConversionWarning)\n",
      "C:\\Users\\rbrun\\Anaconda3\\lib\\site-packages\\sklearn\\utils\\validation.py:475: DataConversionWarning: Data with input dtype int64 was converted to float64 by the scale function.\n",
      "  warnings.warn(msg, DataConversionWarning)\n",
      "C:\\Users\\rbrun\\Anaconda3\\lib\\site-packages\\sklearn\\utils\\validation.py:475: DataConversionWarning: Data with input dtype int64 was converted to float64 by the scale function.\n",
      "  warnings.warn(msg, DataConversionWarning)\n",
      "C:\\Users\\rbrun\\Anaconda3\\lib\\site-packages\\sklearn\\utils\\validation.py:475: DataConversionWarning: Data with input dtype int64 was converted to float64 by the scale function.\n",
      "  warnings.warn(msg, DataConversionWarning)\n",
      "C:\\Users\\rbrun\\Anaconda3\\lib\\site-packages\\sklearn\\utils\\validation.py:475: DataConversionWarning: Data with input dtype int64 was converted to float64 by the scale function.\n",
      "  warnings.warn(msg, DataConversionWarning)\n",
      "C:\\Users\\rbrun\\Anaconda3\\lib\\site-packages\\sklearn\\utils\\validation.py:475: DataConversionWarning: Data with input dtype int64 was converted to float64 by the scale function.\n",
      "  warnings.warn(msg, DataConversionWarning)\n",
      "C:\\Users\\rbrun\\Anaconda3\\lib\\site-packages\\sklearn\\utils\\validation.py:475: DataConversionWarning: Data with input dtype int64 was converted to float64 by the scale function.\n",
      "  warnings.warn(msg, DataConversionWarning)\n",
      "C:\\Users\\rbrun\\Anaconda3\\lib\\site-packages\\sklearn\\utils\\validation.py:475: DataConversionWarning: Data with input dtype int64 was converted to float64 by the scale function.\n",
      "  warnings.warn(msg, DataConversionWarning)\n"
     ]
    }
   ],
   "source": [
    "\"\"\"\n",
    "   Função que calcula o rmse\n",
    "Atributos:\n",
    "    predicted: Conjunto de dados que foram previstos para o modelo a partir dos dados que foram utilizados para teste(X_test)\n",
    "    y_test: Conjunto de dados das váriavel dependente que sera utilizada para testar nosso modelo\n",
    "\"\"\"\n",
    "def calculateRMSE(predicted, y_test):\n",
    "    sum = 0\n",
    "    for i in range(len(predicted)):\n",
    "        sum += (predicted[i] - y_test[i])**2\n",
    "    return (sum/len(predicted))**(0.5)\n",
    "\n",
    "\"\"\"\n",
    "   Função que treina e calcula o rmse do modelo knn\n",
    "Atributos:\n",
    "    X_train: Conjunto de dados das váriaveis independetes que serão utilizados para testar nosso modelo\n",
    "    y_train: Conjunto de dados das váriavel dependente que sera utilizada para treinar nosso modelo\n",
    "    X_test: Conjunto de dados das váriaveis independetes que serão utilizados para testar nosso modelo\n",
    "    y_test: Conjunto de dados das váriavel dependente que sera utilizada para testar nosso modelo\n",
    "\"\"\"\n",
    "def calculateRmseKNN(X_train, y_train, X_test, y_test):\n",
    "    knn = neighbors.KNeighborsRegressor()\n",
    "    knn.fit(X_train, y_train)\n",
    "    return calculateRMSE(knn.predict(X_test), y_test)\n",
    "\n",
    "\"\"\"\n",
    "   Função que treina e calcula o rmse do modelo Random Forest\n",
    "Atributos:\n",
    "    X_train: Conjunto de dados das váriaveis independetes que serão utilizados para testar nosso modelo\n",
    "    y_train: Conjunto de dados das váriavel dependente que sera utilizada para treinar nosso modelo\n",
    "    X_test: Conjunto de dados das váriaveis independetes que serão utilizados para testar nosso modelo\n",
    "    y_test: Conjunto de dados das váriavel dependente que sera utilizada para testar nosso modelo\n",
    "\"\"\"\n",
    "def calculateRmseRandomForest(X_train, y_train, X_test, y_test):\n",
    "    regr_2 = RandomForestRegressor()\n",
    "    regr_2.fit(X_train,y_train)\n",
    "    return calculateRMSE(regr_2.predict(X_test), y_test)\n",
    "\n",
    "\"\"\"\n",
    "   Função que treina e calcula o rmse do modelo SGD\n",
    "Atributos:\n",
    "    X_train: Conjunto de dados das váriaveis independetes que serão utilizados para testar nosso modelo\n",
    "    y_train: Conjunto de dados das váriavel dependente que sera utilizada para treinar nosso modelo\n",
    "    X_test: Conjunto de dados das váriaveis independetes que serão utilizados para testar nosso modelo\n",
    "    y_test: Conjunto de dados das váriavel dependente que sera utilizada para testar nosso modelo\n",
    "\"\"\"\n",
    "def calculateRmseSGD(X_train, y_train, X_test, y_test):\n",
    "    clf = linear_model.SGDRegressor(tol=1e-3, max_iter=1000)\n",
    "    #feature scaling\n",
    "    clf.fit(preprocessing.scale(X_train) ,preprocessing.scale(y_train))\n",
    "    return calculateRMSE(clf.predict(X_test), y_test)\n",
    "\n",
    "\"\"\"\n",
    "   Função que transforma os dados das váriaveis categóricas em interiors. Ver função factorize do pandas.\n",
    "Atributos:\n",
    "    df: DataFrame com os dados apresentados no inicio do documento\n",
    "\"\"\"\n",
    "def transformCategoricalValuesIntoInteger(df):\n",
    "    df[\"City\"] = pd.factorize(df[\"City\"])[0]\n",
    "    df[\"State\"] = pd.factorize(df[\"State\"])[0] \n",
    "    df[\"Make\"] = pd.factorize(df[\"Make\"])[0] \n",
    "    df[\"Model\"] = pd.factorize(df[\"Model\"])[0] \n",
    "    return df\n",
    "\n",
    "## Lendo os dados para o dataframe\n",
    "df = pd.read_csv('true_car_listings.csv')\n",
    "## Excluindo coluna vin do dataframe\n",
    "df = df.drop(['Vin'], axis=1)\n",
    "## transformando váriaveis categoricas em inteiros. Necessário para utilizar os modelos.\n",
    "df = transformCategoricalValuesIntoInteger(df)\n",
    "\n",
    "## Separando o dataframe em variaveis dependente(y): Price e independentes: Todas as outras. \n",
    "X = np.array(df.drop(['Price'], axis=1))\n",
    "y = np.array(df['Price'])\n",
    "\n",
    "rmse = {}\n",
    "rmse[\"knn\"] = []\n",
    "rmse[\"rf\"] = []\n",
    "rmse[\"sgd\"] = []\n",
    "\n",
    "#Valores arbitrários que serão utilizados como sementes durante a separação entre dados de treino e de teste.\n",
    "seeds = [30, 100, 50, 20, 10, 15, 77, 49, 65, 10]\n",
    "\n",
    "#Calculando os scores\n",
    "for seed in seeds:\n",
    "    X_train, X_test, y_train, y_test = cross_validation.train_test_split(X, y, test_size=0.2, random_state=seed)\n",
    "    rmse[\"knn\"].append(calculateRmseKNN(X_train, y_train, X_test, y_test))\n",
    "    rmse[\"rf\"].append(calculateRmseRandomForest(X_train, y_train, X_test, y_test))\n",
    "    rmse[\"sgd\"].append(calculateRmseSGD(X_train, y_train, X_test, y_test))\n"
   ]
  },
  {
   "cell_type": "markdown",
   "metadata": {},
   "source": [
    "   <div> A partir do treinamento feito anteriormente, obtivemos alguns valores de rmse dos modelos treinados. Com estes valores será calculada a média e o desvio padrão: </div>"
   ]
  },
  {
   "cell_type": "code",
   "execution_count": 151,
   "metadata": {},
   "outputs": [],
   "source": [
    "\"\"\"\n",
    "   Função que calcula a média do rmse dos modelos \n",
    "Atributos:\n",
    "    rmse: Dicionário que contém listas com os valores dos rmse dos modelos knn, sgd e random forest\n",
    "\"\"\"\n",
    "def calculateAverageScores(rmse):\n",
    "    summ = {}\n",
    "    media = {}\n",
    "    summ[\"knn\"] = 0\n",
    "    summ[\"rf\"] = 0\n",
    "    summ[\"sgd\"] = 0 \n",
    "    \n",
    "    for i in range(10):\n",
    "        summ[\"knn\"] += rmse[\"knn\"][i]\n",
    "        summ[\"rf\"] += rmse[\"rf\"][i]\n",
    "        summ[\"sgd\"] += rmse[\"sgd\"][i]\n",
    "\n",
    "\n",
    "    media[\"knn\"] = summ[\"knn\"] / 10.0\n",
    "    media[\"rf\"] = summ[\"rf\"] / 10.0\n",
    "    media[\"sgd\"] = summ[\"sgd\"] / 10.0\n",
    "    \n",
    "    return media\n",
    "\n",
    "\"\"\"\n",
    "   Função que calcula o desvio padrão do rmse dos modelos \n",
    "Atributos:\n",
    "    rmse: Dicionário que contém listas com os valores dos rmse dos modelos knn, dts e lasso\n",
    "    media: Dicionário que contém os valores das médias de scores dos modelos knn, dts e lasso\n",
    "\"\"\"\n",
    "def calculateStandartDeviation(rmse, media):\n",
    "    summ = {}\n",
    "    dp = {}\n",
    "    summ[\"knn\"] = 0\n",
    "    summ[\"rf\"] = 0\n",
    "    summ[\"sgd\"] = 0 \n",
    "    \n",
    "    for i in range(10):\n",
    "        summ[\"knn\"] += (rmse[\"knn\"][i] - media[\"knn\"])**2\n",
    "        summ[\"rf\"] += (rmse[\"rf\"][i]  - media[\"rf\"])**2\n",
    "        summ[\"sgd\"] += (rmse[\"sgd\"][i]  - media[\"sgd\"])**2\n",
    "\n",
    "\n",
    "    dp[\"knn\"] = (summ[\"knn\"] / 10.0) ** 0.5\n",
    "    dp[\"rf\"] = (summ[\"rf\"] / 10.0) ** 0.5\n",
    "    dp[\"sgd\"] = (summ[\"sgd\"] / 10.0) ** 0.5\n",
    "    \n",
    "    return dp\n",
    "\n",
    "media = calculateAverageScores(rmse)\n",
    "dp = calculateStandartDeviation(rmse, media)"
   ]
  },
  {
   "cell_type": "code",
   "execution_count": 152,
   "metadata": {
    "scrolled": true
   },
   "outputs": [
    {
     "data": {
      "image/png": "[encoded data removed]",
      "text/plain": [
       "<Figure size 432x288 with 1 Axes>"
      ]
     },
     "metadata": {
      "needs_background": "light"
     },
     "output_type": "display_data"
    }
   ],
   "source": [
    "mediaDF = pd.DataFrame.from_dict(media, orient='index')\n",
    "mediaDF.columns = ['media']\n",
    "mediaDF = mediaDF.sort_values(['media'], ascending=[0])\n",
    "my_plot = mediaDF.plot(kind='bar',legend=None,title=\"Média de rmse dos modelos\")\n",
    "my_plot.set_xlabel(\"Modelos\")\n",
    "my_plot.set_ylabel(\"RMSE\")\n",
    "for p in my_plot.patches:\n",
    "    my_plot.annotate('{:.3f}'.format(Decimal(str(p.get_height()))), (p.get_x()+0.1, p.get_height()))"
   ]
  },
  {
   "cell_type": "code",
   "execution_count": 149,
   "metadata": {},
   "outputs": [
    {
     "name": "stderr",
     "output_type": "stream",
     "text": [
      "C:\\Users\\rbrun\\Anaconda3\\lib\\site-packages\\sklearn\\utils\\validation.py:475: DataConversionWarning: Data with input dtype int64 was converted to float64 by the scale function.\n",
      "  warnings.warn(msg, DataConversionWarning)\n"
     ]
    },
    {
     "data": {
      "text/plain": [
       "35730.08124303972"
      ]
     },
     "execution_count": 149,
     "metadata": {},
     "output_type": "execute_result"
    }
   ],
   "source": [
    "clf = linear_model.SGDRegressor(tol=1e-3, max_iter=1000)\n",
    "X = np.array(df.drop(['Price'], axis=1))\n",
    "y = np.array(df['Price'])\n",
    "X_train, X_test, y_train, y_test = cross_validation.train_test_split(X, y, test_size=0.2, random_state=seed)\n",
    "\n",
    "clf.fit(preprocessing.scale(X_train) ,preprocessing.scale(y_train))\n",
    "calculateRMSE(clf.predict(X_test), y_test)"
   ]
  },
  {
   "cell_type": "code",
   "execution_count": 153,
   "metadata": {
    "scrolled": true
   },
   "outputs": [
    {
     "data": {
      "image/png": "[encoded data removed]",
      "text/plain": [
       "<Figure size 432x288 with 1 Axes>"
      ]
     },
     "metadata": {
      "needs_background": "light"
     },
     "output_type": "display_data"
    }
   ],
   "source": [
    "dpDF = pd.DataFrame.from_dict(dp, orient='index')\n",
    "dpDF.columns = ['dp']\n",
    "dpDF = dpDF.sort_values(['dp'], ascending=[0])\n",
    "my_plot = dpDF.plot(kind='bar',legend=None,title=\"Desvio padrão do rmse dos modelos\")\n",
    "my_plot.set_xlabel(\"Desvio padrão\")\n",
    "my_plot.set_ylabel(\"Scores\")\n",
    "for p in my_plot.patches:\n",
    "    my_plot.annotate('{:.2f}'.format(Decimal(str(p.get_height()))), (p.get_x()+0.1, p.get_height()))"
   ]
  },
  {
   "cell_type": "markdown",
   "metadata": {},
   "source": [
    "<div style=\"text-align:justify\"> Como podemos ver a partir dos gráficos acima, o modelo que alcançou um melhor rmse(quanto mais baixo, melhor) foi o modelo random forest. Além disso, podemos notar que o desvio padrão de todos os modelos não foi tão alto. A partir disso podemos inferir que os dados são um pouco consistentes para a predição. Ou seja, apesar de termos obtido diferentes médias de rmse para os diferentes modelos, as variações entre as predições de cada modelo foi de média para baixa. </div>\n"
   ]
  },
  {
   "cell_type": "markdown",
   "metadata": {},
   "source": [
    "## Técnicas de Pre-processamento : "
   ]
  },
  {
   "cell_type": "markdown",
   "metadata": {},
   "source": [
    "Nesta seção exploraremos algumas técnicas de pré-processamento. O objetivo dessas técnicas são de melhorar as predições dos modelos utilizados neste documento. "
   ]
  },
  {
   "cell_type": "markdown",
   "metadata": {},
   "source": [
    "#### - Checagem de valores nulos ou vazios:\n",
    "\n",
    "Uma técnica de pré-processamento bastante utilizada é a checagem de valores vazios ou nulos nas nossas colunas de dados. Caso se encontre algum valor nulo, geralmente a linha que possui este tipo de dado é apagada da nossa base de dados. "
   ]
  },
  {
   "cell_type": "code",
   "execution_count": 5,
   "metadata": {},
   "outputs": [],
   "source": [
    "df = pd.read_csv('true_car_listings.csv')\n",
    "df = df.drop(['Vin'], axis=1)\n",
    "df = transformCategoricalValuesIntoInteger(df)\n"
   ]
  },
  {
   "cell_type": "code",
   "execution_count": 24,
   "metadata": {},
   "outputs": [
    {
     "data": {
      "text/plain": [
       "False"
      ]
     },
     "execution_count": 24,
     "metadata": {},
     "output_type": "execute_result"
    }
   ],
   "source": [
    "df.isnull().values.any()"
   ]
  },
  {
   "cell_type": "code",
   "execution_count": 25,
   "metadata": {},
   "outputs": [
    {
     "data": {
      "text/plain": [
       "False"
      ]
     },
     "execution_count": 25,
     "metadata": {},
     "output_type": "execute_result"
    }
   ],
   "source": [
    "def checkIsHasEmpty(): \n",
    "    hasEmpty = False\n",
    "    for i in range(df['State'].size):\n",
    "        if (df['State'][i].strip() == '' or df['City'][i].strip() == '' or df['Make'][i].strip() == '' or \n",
    "            df['Model'][i].strip() == ''):\n",
    "            hasEmpty = True\n",
    "    return hasEmpty\n",
    "\n",
    "checkIsHasEmpty()"
   ]
  },
  {
   "cell_type": "markdown",
   "metadata": {},
   "source": [
    "<div style=\"text-align:justify\"> A partir do que foi exposto acima, conseguimos ver que o conjunto de dados não possui valores nulos e também suas váriaveis categóricas não possuem valores vazios </div>"
   ]
  },
  {
   "cell_type": "markdown",
   "metadata": {},
   "source": [
    "#### - Normalização de variaveis categóricas:\n",
    "\n",
    "<div style=\"text-align:justify\"> O nosso conjunto de dados possui inúmeras variáveis categóricas. Devido a isso aumenta-se a probabilidade de alguns ruidos nos nossos dados. Por exemplo, imaginemos se nossos dados possuam os modelos de carro Palio e PAlio. Durante a transformação ocorrerá um erro, já que será identificado que Palio e PAlio são dois modelos differentes de carro, quando na verdade não o são. O mesmo acontece devido a diferença de espaços. Por exemplo, a string 'Palio' será diferente da string 'Palio  ' ou '  Palio'. O algoritmo utilizado pode ser visto abaixo:\n",
    "</div>\n",
    "\n"
   ]
  },
  {
   "cell_type": "markdown",
   "metadata": {},
   "source": [
    "'''\n",
    "variables = [\"City\", \"State\", \"Make\", \"Model\"]\n",
    "    for vr in variables:\n",
    "         df[vr] = np.where(df[vr].apply(lambda x: isinstance(x, str)),\n",
    "                           df[vr].str.upper().str.replace(r'\\s', ''),\n",
    "                           df[vr])\n",
    "'''\n"
   ]
  },
  {
   "cell_type": "markdown",
   "metadata": {},
   "source": [
    "<img src=\"rmsePadNormalization2.jpg\"> </img>"
   ]
  },
  {
   "cell_type": "markdown",
   "metadata": {},
   "source": [
    "A partir do gráfico acima podemos ver que a variação da média encontrada permaneceu no intervalo do desvio padrão encontrado anteriormente. O que pode indicar que os dados não possuem este tipo de ruido indicado acima."
   ]
  },
  {
   "cell_type": "markdown",
   "metadata": {},
   "source": [
    "#### - Mudança no uso da técnica de transformação das variaveis categoricas:\n",
    "   <br>\n",
    "   <div> \n",
    "    Caso o leitor não se lembre, em nossas predições inicias foi utilizada a função <a href=\"https://pandas.pydata.org/pandas-docs/version/0.23.4/generated/pandas.factorize.html\"> factorize </a> do pandas. A partir disso foi tentado utilizar a função <a href=\"https://scikit-learn.org/stable/modules/generated/sklearn.preprocessing.LabelEncoder.html\"> LabelEncoder </a> do scikit, uma função bastante utilizada para transformar váriaveis categóricas em inteiras. Os resultados como podem ser vistos no gráfico abaixo, é de que a função factorize conseguiu gerar melhores predições em todos modelos do que a função LabelEncoder. Já que as médias de quase todos os modelos aumentaram fora do intervalo do desvio padrão.\n",
    "   </div>"
   ]
  },
  {
   "cell_type": "markdown",
   "metadata": {},
   "source": [
    "<img src=\"rmseLabelEncodizer2.jpg\"> </img>"
   ]
  },
  {
   "cell_type": "markdown",
   "metadata": {},
   "source": [
    " #### - Remoção de dados duplicados:\n",
    " <br>\n",
    "   <div style=\"text-align: justify\"> Outra técnica de pre-preprocessamento bastante utilizada é a remoção de dados duplicados. Para isto utilizamos a função <a href=\"https://pandas.pydata.org/pandas-docs/stable/generated/pandas.DataFrame.drop_duplicates.html\"> drop_duplicates </a> da biblioteca pandas. Foram removidos todas as linhas que eram duplicadas deixando apenas a primeira. A partir disso foi calculado novamente a média dos rmse. Como pode ser visto abaixo, não houve muita diferença no resultado obtidos no modelo sem tratamento. </div>\n"
   ]
  },
  {
   "cell_type": "markdown",
   "metadata": {},
   "source": [
    "<img src=\"rmseDuplicates4.jpg\"> </img>"
   ]
  },
  {
   "cell_type": "markdown",
   "metadata": {},
   "source": [
    "#### - Seleção de váriaveis:\n",
    "   <br>\n",
    "   <div style=\"text-align:justify\"> A seleção de váriaveis pode ser definido como o processo de escolher dentro as váriaveis disponiveis no modelo, aquelas que mais são capazes de predizer o modelo proposto. Em outras palavras, nesta seção reduziremos o número de colunas do nosso dataframe a fim de obter melhores valores de rmse para os nossos modelos. O scikit learn nos oferece um certo <a href=\"https://scikit-learn.org/stable/modules/feature_selection.html\"> número de modelos</a> para seleção de váriaveis. Contudo, nossos dados possuem poucas colunas(6) de váriaveis indepentes. Além disto, nossos modelos apresentam um desvio padrão baixo. Por último, o tempo computacional para predição dos modelos não é tão alto. Sendo assim, foi testado todas as combinações de colunas para cada modelo para então decidir quais seriam as melhores váriaveis para cada modelo. Um exemplo de excecução do algoritmo pode ser visto abaixo. Note que para o exemplo se dá para o knn(calculateRmseKNN). Para verificar outros algoritmos, utilize(calculateRmseRandomForest ou calculateRmseSGD) </div>\n"
   ]
  },
  {
   "cell_type": "code",
   "execution_count": 119,
   "metadata": {},
   "outputs": [],
   "source": [
    "'''\n",
    "df = pd.read_csv('true_car_listings.csv')\n",
    "## Excluindo coluna vin do dataframe\n",
    "df = df.drop(['Vin'], axis=1)\n",
    "df = transformCategoricalValuesIntoInteger(df)\n",
    "\n",
    "iterable = [\"City\", \"State\", \"Make\", \"Model\", \"Year\", \"Mileage\"]\n",
    "values = {}\n",
    "for index in range(3):\n",
    "    seeds = [30, 100, 50]\n",
    "    for i in range(1, 6):\n",
    "        for subset in itertools.combinations(iterable, i):\n",
    "            k = df.copy()\n",
    "            k = k.drop(list(subset), axis=1)\n",
    "            X = np.array(k.drop(['Price'], axis=1))\n",
    "            y = np.array(k['Price'])\n",
    "            X_train, X_test, y_train, y_test = cross_validation.train_test_split(X, y, test_size=0.2, random_state=seeds[index])\n",
    "            if str(list(subset)) not in values:\n",
    "                values[str(list(subset))] = 0\n",
    "            values[str(list(subset))] += calculateRmseRandomForest(X_train, y_train, X_test, y_test)\n",
    "\n",
    "s = [(k, values[k]) for k in sorted(values, key=values.get, reverse=True)]\n",
    "for k, v in s:\n",
    "    print(k, v/3.0)\n",
    "'''\n"
   ]
  },
  {
   "cell_type": "markdown",
   "metadata": {},
   "source": [
    "Os resultados como pode ser vistos na image abaixo, são bastante satisfatórios. Houve uma diminuição bem acentuada no RMSE de todos os modelos. Além disso, houve uma diminuição bastante interessante no desvio padrão dos modelos KNN e SGD."
   ]
  },
  {
   "cell_type": "markdown",
   "metadata": {},
   "source": [
    "<img src=\"rmseAfterSelection.jpg\"> </img>"
   ]
  },
  {
   "cell_type": "markdown",
   "metadata": {},
   "source": [
    "<img src=\"rmseDPAfterSelection.jpg\"> </img>"
   ]
  },
  {
   "cell_type": "markdown",
   "metadata": {},
   "source": [
    "#### - Remoção de outliers:\n",
    "   <div style=\"text-align: justify\"> Remoção de outliers é uma parte importante da etapa de pré-processamento de dados. Isso ocorre pois outliers podem prejudicar determinado modelos, principalmente os lineares, ao indicarem valores que de fato não representam aquele modelo, gerando então problemas para a regressão como um todo. Contudo, há algo a se lembrar que outliers\n",
    "   </div>"
   ]
  },
  {
   "cell_type": "markdown",
   "metadata": {},
   "source": [
    "##### 1 - Usando IQR:\n",
    "    O IQR(Interquartile range/Intervalo interquartil)\n",
    "    The IQR is the length of the box in your box-and-whisker plot. An outlier is any value that lies more than one and a half times the length of the box from either end of the box.\n",
    "\n",
    " \n",
    "MathHelp.com\n",
    "Box and Whisker Plots on MathHelp.com\n",
    "Box-and-Whisker Plots\n",
    "\n",
    "That is, if a data point is below Q1 – 1.5×IQR or above Q3 + 1.5×IQR, it is viewed as being too far from the central values to be reasonable. \n"
   ]
  },
  {
   "cell_type": "markdown",
   "metadata": {},
   "source": [
    "Código utilizado:\n",
    "<br>\n",
    "Q1 = df.quantile(0.25)\n",
    "<br>\n",
    "Q3 = df.quantile(0.75)\n",
    "<br>\n",
    "IQR = Q3 - Q1\n",
    "<br>\n",
    "df = df[~((df < (Q1 - 1.5 * IQR)) |(df > (Q3 + 1.5 * IQR))).any(axis=1)]"
   ]
  },
  {
   "cell_type": "markdown",
   "metadata": {},
   "source": [
    "<img src=\"usingIQR.jpg\"> </img>"
   ]
  },
  {
   "cell_type": "markdown",
   "metadata": {},
   "source": [
    "## Links interessantes:\n",
    "\n",
    "Algumas fontes que foram utilizadas na produção deste documento e que podem ser interessantes caso o leitor queira saber mais sobre os assuntos mencionados neste documento: \n",
    "<div>\n",
    "<a href=\"http://www.iasri.res.in/ebook/win_school_aa/notes/Data_Preprocessing.pdf\"> Data preprocessing techniques for data mining </a>\n",
    "</div>\n",
    "<div>\n",
    "<a href=\"https://www.researchgate.net/publication/320161439_Review_of_Data_Preprocessing_Techniques_in_Data_Mining\"> Review of Data Preprocessing Techniques in Data Mining </a>\n",
    "</div>\n",
    "<div>\n",
    "<a href=\"https://towardsdatascience.com/ways-to-detect-and-remove-the-outliers-404d16608dba\"> Ways to Detect and Remove the Outliers\n",
    " </a>\n",
    " </div>\n",
    "<div>\n",
    "<a href=\"https://towardsdatascience.com/the-random-forest-algorithm-d457d499ffcd\"> The Random Forest Algorithm\n",
    " </a>\n",
    "</div>\n",
    "<div>\n",
    "<a href=\"https://www.youtube.com/watch?v=umAeJ7LMCfU\"> Gradient Descent - Artificial Intelligence for Robotics\n",
    "</a>\n",
    "</div>\n",
    "<div>\n",
    " <a href=\"https://www.youtube.com/watch?v=jc2IthslyzM\"> 3.5: Mathematics of Gradient Descent - Intelligence and Learning </a>\n",
    "     </div>\n"
   ]
  },
  {
   "cell_type": "code",
   "execution_count": 3,
   "metadata": {},
   "outputs": [
    {
     "name": "stderr",
     "output_type": "stream",
     "text": [
      "C:\\Users\\rbrun\\Anaconda3\\lib\\site-packages\\sklearn\\utils\\validation.py:475: DataConversionWarning: Data with input dtype int64 was converted to float64 by the scale function.\n",
      "  warnings.warn(msg, DataConversionWarning)\n",
      "C:\\Users\\rbrun\\Anaconda3\\lib\\site-packages\\sklearn\\utils\\validation.py:475: DataConversionWarning: Data with input dtype int64 was converted to float64 by the scale function.\n",
      "  warnings.warn(msg, DataConversionWarning)\n",
      "C:\\Users\\rbrun\\Anaconda3\\lib\\site-packages\\sklearn\\utils\\validation.py:475: DataConversionWarning: Data with input dtype int64 was converted to float64 by the scale function.\n",
      "  warnings.warn(msg, DataConversionWarning)\n",
      "C:\\Users\\rbrun\\Anaconda3\\lib\\site-packages\\sklearn\\utils\\validation.py:475: DataConversionWarning: Data with input dtype int64 was converted to float64 by the scale function.\n",
      "  warnings.warn(msg, DataConversionWarning)\n",
      "C:\\Users\\rbrun\\Anaconda3\\lib\\site-packages\\sklearn\\utils\\validation.py:475: DataConversionWarning: Data with input dtype int64 was converted to float64 by the scale function.\n",
      "  warnings.warn(msg, DataConversionWarning)\n",
      "C:\\Users\\rbrun\\Anaconda3\\lib\\site-packages\\sklearn\\utils\\validation.py:475: DataConversionWarning: Data with input dtype int64 was converted to float64 by the scale function.\n",
      "  warnings.warn(msg, DataConversionWarning)\n",
      "C:\\Users\\rbrun\\Anaconda3\\lib\\site-packages\\sklearn\\utils\\validation.py:475: DataConversionWarning: Data with input dtype int64 was converted to float64 by the scale function.\n",
      "  warnings.warn(msg, DataConversionWarning)\n",
      "C:\\Users\\rbrun\\Anaconda3\\lib\\site-packages\\sklearn\\utils\\validation.py:475: DataConversionWarning: Data with input dtype int64 was converted to float64 by the scale function.\n",
      "  warnings.warn(msg, DataConversionWarning)\n",
      "C:\\Users\\rbrun\\Anaconda3\\lib\\site-packages\\sklearn\\utils\\validation.py:475: DataConversionWarning: Data with input dtype int64 was converted to float64 by the scale function.\n",
      "  warnings.warn(msg, DataConversionWarning)\n",
      "C:\\Users\\rbrun\\Anaconda3\\lib\\site-packages\\sklearn\\utils\\validation.py:475: DataConversionWarning: Data with input dtype int64 was converted to float64 by the scale function.\n",
      "  warnings.warn(msg, DataConversionWarning)\n"
     ]
    }
   ],
   "source": [
    "\"\"\"\n",
    "   Função que calcula o rmse\n",
    "Atributos:\n",
    "    predicted: Conjunto de dados que foram previstos para o modelo a partir dos dados que foram utilizados para teste(X_test)\n",
    "    y_test: Conjunto de dados das váriavel dependente que sera utilizada para testar nosso modelo\n",
    "\"\"\"\n",
    "def calculateRMSE(predicted, y_test):\n",
    "    sum = 0\n",
    "    for i in range(len(predicted)):\n",
    "        sum += (predicted[i] - y_test[i])**2\n",
    "    return (sum/len(predicted))**(0.5)\n",
    "\n",
    "\"\"\"\n",
    "   Função que treina e calcula o rmse do modelo knn\n",
    "Atributos:\n",
    "    X_train: Conjunto de dados das váriaveis independetes que serão utilizados para testar nosso modelo\n",
    "    y_train: Conjunto de dados das váriavel dependente que sera utilizada para treinar nosso modelo\n",
    "    X_test: Conjunto de dados das váriaveis independetes que serão utilizados para testar nosso modelo\n",
    "    y_test: Conjunto de dados das váriavel dependente que sera utilizada para testar nosso modelo\n",
    "\"\"\"\n",
    "def calculateRmseKNN(X_train, y_train, X_test, y_test):\n",
    "    knn = neighbors.KNeighborsRegressor()\n",
    "    knn.fit(X_train, y_train)\n",
    "    return calculateRMSE(knn.predict(X_test), y_test)\n",
    "\n",
    "\"\"\"\n",
    "   Função que treina e calcula o rmse do modelo Random Forest\n",
    "Atributos:\n",
    "    X_train: Conjunto de dados das váriaveis independetes que serão utilizados para testar nosso modelo\n",
    "    y_train: Conjunto de dados das váriavel dependente que sera utilizada para treinar nosso modelo\n",
    "    X_test: Conjunto de dados das váriaveis independetes que serão utilizados para testar nosso modelo\n",
    "    y_test: Conjunto de dados das váriavel dependente que sera utilizada para testar nosso modelo\n",
    "\"\"\"\n",
    "def calculateRmseRandomForest(X_train, y_train, X_test, y_test):\n",
    "    regr_2 = RandomForestRegressor()\n",
    "    regr_2.fit(X_train,y_train)\n",
    "    return calculateRMSE(regr_2.predict(X_test), y_test)\n",
    "\n",
    "\"\"\"\n",
    "   Função que treina e calcula o rmse do modelo SGD\n",
    "Atributos:\n",
    "    X_train: Conjunto de dados das váriaveis independetes que serão utilizados para testar nosso modelo\n",
    "    y_train: Conjunto de dados das váriavel dependente que sera utilizada para treinar nosso modelo\n",
    "    X_test: Conjunto de dados das váriaveis independetes que serão utilizados para testar nosso modelo\n",
    "    y_test: Conjunto de dados das váriavel dependente que sera utilizada para testar nosso modelo\n",
    "\"\"\"\n",
    "def calculateRmseSGD(X_train, y_train, X_test, y_test):\n",
    "    clf = linear_model.SGDRegressor(tol=1e-3, max_iter=1000)\n",
    "    #feature scaling\n",
    "    clf.fit(preprocessing.scale(X_train) ,preprocessing.scale(y_train))\n",
    "    return calculateRMSE(clf.predict(X_test), y_test)\n",
    "\n",
    "\"\"\"\n",
    "   Função que transforma os dados das váriaveis categóricas em interiors. Ver função factorize do pandas.\n",
    "Atributos:\n",
    "    df: DataFrame com os dados apresentados no inicio do documento\n",
    "\"\"\"\n",
    "def transformCategoricalValuesIntoInteger(df):\n",
    "            \n",
    "    df[\"City\"] = pd.factorize(df[\"City\"])[0]\n",
    "    df[\"State\"] = pd.factorize(df[\"State\"])[0] \n",
    "    df[\"Make\"] = pd.factorize(df[\"Make\"])[0] \n",
    "    df[\"Model\"] = pd.factorize(df[\"Model\"])[0] \n",
    "    return df\n",
    "\n",
    "## Lendo os dados para o dataframe\n",
    "df = pd.read_csv('true_car_listings.csv')\n",
    "## Excluindo coluna vin do dataframe\n",
    "df = df.drop(['Vin'], axis=1)\n",
    "#df = df.drop_duplicates(keep='first')\n",
    "## transformando váriaveis categoricas em inteiros. Necessário para utilizar os modelos.\n",
    "df = transformCategoricalValuesIntoInteger(df)\n",
    "\n",
    "## Separando o dataframe em variaveis dependente(y): Price e independentes: Todas as outras. \n",
    "X = np.array(df.drop(['Price', 'City', 'State', 'Mileage'], axis=1))\n",
    "y = np.array(df['Price'])\n",
    "\n",
    "rmse = {}\n",
    "rmse[\"knn\"] = []\n",
    "rmse[\"rf\"] = []\n",
    "rmse[\"sgd\"] = []\n",
    "\n",
    "#Valores arbitrários que serão utilizados como sementes durante a separação entre dados de treino e de teste.\n",
    "seeds = [30, 100, 50, 20, 10, 15, 77, 49, 65, 10]\n",
    "\n",
    "#Calculando os scores\n",
    "for seed in seeds:\n",
    "    X_train, X_test, y_train, y_test = cross_validation.train_test_split(X, y, test_size=0.2, random_state=seed)\n",
    "    rmse[\"knn\"].append(calculateRmseKNN(X_train, y_train, X_test, y_test))\n",
    "    rmse[\"rf\"].append(calculateRmseRandomForest(X_train, y_train, X_test, y_test))\n",
    "    rmse[\"sgd\"].append(calculateRmseSGD(X_train, y_train, X_test, y_test))\n"
   ]
  },
  {
   "cell_type": "code",
   "execution_count": 4,
   "metadata": {},
   "outputs": [],
   "source": [
    "\"\"\"\n",
    "   Função que calcula a média do rmse dos modelos \n",
    "Atributos:\n",
    "    rmse: Dicionário que contém listas com os valores dos rmse dos modelos knn, sgd e random forest\n",
    "\"\"\"\n",
    "def calculateAverageScores(rmse):\n",
    "    summ = {}\n",
    "    media = {}\n",
    "    summ[\"knn\"] = 0\n",
    "    summ[\"rf\"] = 0\n",
    "    summ[\"sgd\"] = 0 \n",
    "    \n",
    "    for i in range(10):\n",
    "        summ[\"knn\"] += rmse[\"knn\"][i]\n",
    "        summ[\"rf\"] += rmse[\"rf\"][i]\n",
    "        summ[\"sgd\"] += rmse[\"sgd\"][i]\n",
    "\n",
    "\n",
    "    media[\"knn\"] = summ[\"knn\"] / 10.0\n",
    "    media[\"rf\"] = summ[\"rf\"] / 10.0\n",
    "    media[\"sgd\"] = summ[\"sgd\"] / 10.0\n",
    "    \n",
    "    return media\n",
    "\n",
    "\"\"\"\n",
    "   Função que calcula o desvio padrão do rmse dos modelos \n",
    "Atributos:\n",
    "    rmse: Dicionário que contém listas com os valores dos rmse dos modelos knn, dts e lasso\n",
    "    media: Dicionário que contém os valores das médias de scores dos modelos knn, dts e lasso\n",
    "\"\"\"\n",
    "def calculateStandartDeviation(rmse, media):\n",
    "    summ = {}\n",
    "    dp = {}\n",
    "    summ[\"knn\"] = 0\n",
    "    summ[\"rf\"] = 0\n",
    "    summ[\"sgd\"] = 0 \n",
    "    \n",
    "    for i in range(10):\n",
    "        summ[\"knn\"] += (rmse[\"knn\"][i] - media[\"knn\"])**2\n",
    "        summ[\"rf\"] += (rmse[\"rf\"][i]  - media[\"rf\"])**2\n",
    "        summ[\"sgd\"] += (rmse[\"sgd\"][i]  - media[\"sgd\"])**2\n",
    "\n",
    "\n",
    "    dp[\"knn\"] = (summ[\"knn\"] / 10.0) ** 0.5\n",
    "    dp[\"rf\"] = (summ[\"rf\"] / 10.0) ** 0.5\n",
    "    dp[\"sgd\"] = (summ[\"sgd\"] / 10.0) ** 0.5\n",
    "    \n",
    "    return dp\n",
    "\n",
    "media = calculateAverageScores(rmse)\n",
    "dp = calculateStandartDeviation(rmse, media)"
   ]
  },
  {
   "cell_type": "code",
   "execution_count": 5,
   "metadata": {},
   "outputs": [
    {
     "data": {
      "image/png": "[encoded data removed]",
      "text/plain": [
       "<Figure size 432x288 with 1 Axes>"
      ]
     },
     "metadata": {
      "needs_background": "light"
     },
     "output_type": "display_data"
    }
   ],
   "source": [
    "mediaDF = pd.DataFrame.from_dict(media, orient='index')\n",
    "mediaDF.columns = ['media']\n",
    "mediaDF = mediaDF.sort_values(['media'], ascending=[0])\n",
    "my_plot = mediaDF.plot(kind='bar',legend=None,title=\"Média de rmse dos modelos\")\n",
    "my_plot.set_xlabel(\"Modelos\")\n",
    "my_plot.set_ylabel(\"RMSE\")\n",
    "for p in my_plot.patches:\n",
    "    my_plot.annotate('{:.3f}'.format(Decimal(str(p.get_height()))), (p.get_x()+0.1, p.get_height()))"
   ]
  },
  {
   "cell_type": "code",
   "execution_count": 7,
   "metadata": {},
   "outputs": [
    {
     "data": {
      "image/png": "[encoded data removed]",
      "text/plain": [
       "<Figure size 432x288 with 1 Axes>"
      ]
     },
     "metadata": {
      "needs_background": "light"
     },
     "output_type": "display_data"
    }
   ],
   "source": [
    "dpDF = pd.DataFrame.from_dict(dp, orient='index')\n",
    "dpDF.columns = ['dp']\n",
    "dpDF = dpDF.sort_values(['dp'], ascending=[0])\n",
    "my_plot = dpDF.plot(kind='bar',legend=None,title=\"Desvio padrão do rmse dos modelos\")\n",
    "my_plot.set_xlabel(\"Desvio padrão\")\n",
    "my_plot.set_ylabel(\"Scores\")\n",
    "for p in my_plot.patches:\n",
    "    my_plot.annotate('{:.2f}'.format(Decimal(str(p.get_height()))), (p.get_x()+0.1, p.get_height()))"
   ]
  }
 ],
 "metadata": {
  "kernelspec": {
   "display_name": "Python 3",
   "language": "python",
   "name": "python3"
  },
  "language_info": {
   "codemirror_mode": {
    "name": "ipython",
    "version": 3
   },
   "file_extension": ".py",
   "mimetype": "text/x-python",
   "name": "python",
   "nbconvert_exporter": "python",
   "pygments_lexer": "ipython3",
   "version": "3.7.0"
  }
 },
 "nbformat": 4,
 "nbformat_minor": 2
}
